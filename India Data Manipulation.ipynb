{
 "cells": [
  {
   "cell_type": "code",
   "execution_count": 19,
   "metadata": {
    "ExecuteTime": {
     "end_time": "2020-09-25T12:30:19.634746Z",
     "start_time": "2020-09-25T12:30:19.632137Z"
    }
   },
   "outputs": [],
   "source": [
    "import pandas as pd\n",
    "from datetime import datetime"
   ]
  },
  {
   "cell_type": "code",
   "execution_count": 20,
   "metadata": {
    "ExecuteTime": {
     "end_time": "2020-09-25T12:30:20.464440Z",
     "start_time": "2020-09-25T12:30:20.454836Z"
    }
   },
   "outputs": [],
   "source": [
    "nifty_list = pd.read_csv('data/Nifty50/ind_nifty50list.csv')\n",
    "ticker_list = [i[1]['Symbol'] for i in nifty_list.iterrows()]\n",
    "#Getting ticker list"
   ]
  },
  {
   "cell_type": "code",
   "execution_count": 23,
   "metadata": {
    "ExecuteTime": {
     "end_time": "2020-09-25T12:31:43.752142Z",
     "start_time": "2020-09-25T12:31:40.107299Z"
    }
   },
   "outputs": [],
   "source": [
    "for stock_name in ticker_list:\n",
    "    dat = pd.read_csv('/home/anvay/Desktop/AlgoTrade/trading-bot/data/Nifty50/{}.csv'.format(stock_name))\n",
    "    # Reading data\n",
    "\n",
    "    m = lambda x: datetime.strptime(x,'%Y-%m-%d')\n",
    "    dat['Index'] = dat['Date'].map(m) \n",
    "    # Creating datetime column\n",
    "\n",
    "    train = dat[dat['Index']>=datetime.strptime('2010-01-01','%Y-%m-%d')]\n",
    "    train = train[train['Index']<=datetime.strptime('2016-12-30','%Y-%m-%d')]\n",
    "    # Taking 2010-2016 data\n",
    "\n",
    "    test = dat[dat['Index']>=datetime.strptime('2017-01-01','%Y-%m-%d')]\n",
    "    test = test[test['Index']<=datetime.strptime('2017-12-30','%Y-%m-%d')]\n",
    "    # 2017 validation data\n",
    "\n",
    "    train = train.set_index('Date')\n",
    "    test = test.set_index('Date')\n",
    "    train = train.drop(columns='Index')\n",
    "    test = test.drop(columns='Index')\n",
    "\n",
    "    train = train.dropna()\n",
    "    test = test.dropna()\n",
    "\n",
    "    test2018 = dat[dat['Index']>=datetime.strptime('2018-01-01','%Y-%m-%d')]\n",
    "    test2018 = test2018[test2018['Index']<=datetime.strptime('2018-12-30','%Y-%m-%d')]\n",
    "    test2018 = test2018.dropna()\n",
    "    test2018 = test2018.set_index('Date')\n",
    "    test2018 = test2018.drop(columns='Index')\n",
    "\n",
    "    test2019 = dat[dat['Index']>=datetime.strptime('2019-01-01','%Y-%m-%d')]\n",
    "    test2019 = test2019[test2019['Index']<=datetime.strptime('2019-12-30','%Y-%m-%d')]\n",
    "    test2019 = test2019.dropna()\n",
    "    test2019 = test2019.set_index('Date')\n",
    "    test2019 = test2019.drop(columns='Index')\n",
    "\n",
    "    test2020 = dat[dat['Index']>=datetime.strptime('2020-01-01','%Y-%m-%d')]\n",
    "    test2020 = test2020[test2020['Index']<=datetime.strptime('2020-12-30','%Y-%m-%d')]\n",
    "    test2020 = test2020.dropna()\n",
    "    test2020 = test2020.set_index('Date')\n",
    "    test2020 = test2020.drop(columns='Index')\n",
    "\n",
    "    train.to_csv('/home/anvay/Desktop/AlgoTrade/trading-bot/data/Nifty50/Split/{}_Train.csv'.format(stock_name))\n",
    "    test.to_csv('/home/anvay/Desktop/AlgoTrade/trading-bot/data/Nifty50/Split/{}_Val.csv'.format(stock_name))\n",
    "    test2018.to_csv('/home/anvay/Desktop/AlgoTrade/trading-bot/data/Nifty50/Split/{}_2018.csv'.format(stock_name))\n",
    "    test2019.to_csv('/home/anvay/Desktop/AlgoTrade/trading-bot/data/Nifty50/Split/{}_2019.csv'.format(stock_name))\n",
    "    test2020.to_csv('/home/anvay/Desktop/AlgoTrade/trading-bot/data/Nifty50/Split/{}_2020.csv'.format(stock_name))"
   ]
  },
  {
   "cell_type": "code",
   "execution_count": null,
   "metadata": {},
   "outputs": [],
   "source": []
  }
 ],
 "metadata": {
  "kernelspec": {
   "display_name": "Python 3",
   "language": "python",
   "name": "python3"
  },
  "language_info": {
   "codemirror_mode": {
    "name": "ipython",
    "version": 3
   },
   "file_extension": ".py",
   "mimetype": "text/x-python",
   "name": "python",
   "nbconvert_exporter": "python",
   "pygments_lexer": "ipython3",
   "version": "3.6.9"
  }
 },
 "nbformat": 4,
 "nbformat_minor": 4
}
