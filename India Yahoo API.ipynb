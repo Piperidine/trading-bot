{
 "cells": [
  {
   "cell_type": "code",
   "execution_count": 10,
   "metadata": {
    "ExecuteTime": {
     "end_time": "2020-09-24T13:07:01.063310Z",
     "start_time": "2020-09-24T13:07:01.060427Z"
    }
   },
   "outputs": [],
   "source": [
    "import pandas as pd\n",
    "from datetime import datetime, timedelta\n"
   ]
  },
  {
   "cell_type": "code",
   "execution_count": 38,
   "metadata": {
    "ExecuteTime": {
     "end_time": "2020-09-24T13:25:07.650342Z",
     "start_time": "2020-09-24T13:25:07.646299Z"
    }
   },
   "outputs": [],
   "source": [
    "def get_dat(ticker, period1 = '1262264400', stock_ex ='NS',interval = '1d', events='history' ):\n",
    "    # period 1 is 1-1-2010 by default\n",
    "    period2 = str(int(datetime.now().timestamp()))\n",
    "    base_url = 'https://query1.finance.yahoo.com/v7/finance/download/{}.{}?period1={}&period2={}&interval={}&events={}'\n",
    "    dat = pd.read_csv(base_url.format(ticker,stock_ex,period1,period2,interval,events))\n",
    "    dat = dat.dropna()\n",
    "    return dat"
   ]
  },
  {
   "cell_type": "code",
   "execution_count": 41,
   "metadata": {
    "ExecuteTime": {
     "end_time": "2020-09-24T13:27:20.143615Z",
     "start_time": "2020-09-24T13:27:20.137580Z"
    }
   },
   "outputs": [],
   "source": [
    "nifty_list = pd.read_csv('data/Nifty50/ind_nifty50list.csv')"
   ]
  },
  {
   "cell_type": "code",
   "execution_count": 48,
   "metadata": {
    "ExecuteTime": {
     "end_time": "2020-09-24T13:29:34.762983Z",
     "start_time": "2020-09-24T13:29:34.752887Z"
    }
   },
   "outputs": [],
   "source": [
    "ticker_list = [i[1]['Symbol'] for i in nifty_list.iterrows()]\n"
   ]
  },
  {
   "cell_type": "code",
   "execution_count": 49,
   "metadata": {
    "ExecuteTime": {
     "end_time": "2020-09-24T13:31:29.141092Z",
     "start_time": "2020-09-24T13:31:04.256566Z"
    }
   },
   "outputs": [],
   "source": [
    "for ticker in ticker_list:\n",
    "    dat = get_dat(ticker)\n",
    "    dat.to_csv('data/Nifty50/{}.csv'.format(ticker))"
   ]
  },
  {
   "cell_type": "code",
   "execution_count": null,
   "metadata": {},
   "outputs": [],
   "source": []
  }
 ],
 "metadata": {
  "kernelspec": {
   "display_name": "Python 3",
   "language": "python",
   "name": "python3"
  },
  "language_info": {
   "codemirror_mode": {
    "name": "ipython",
    "version": 3
   },
   "file_extension": ".py",
   "mimetype": "text/x-python",
   "name": "python",
   "nbconvert_exporter": "python",
   "pygments_lexer": "ipython3",
   "version": "3.6.9"
  }
 },
 "nbformat": 4,
 "nbformat_minor": 4
}
